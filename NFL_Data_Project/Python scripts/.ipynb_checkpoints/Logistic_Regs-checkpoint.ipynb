{
 "cells": [
  {
   "cell_type": "markdown",
   "id": "b829478b-ec30-4694-8716-4fe55270045f",
   "metadata": {},
   "source": [
    "# Logistic regressions\n",
    "\n",
    "## Purpose\n",
    "\n",
    "The purpose of this script is to run logistic regressions that use machine learning methods to estimate whether or not a player's passing yards would be above or below a synthetically derived betting line, or above/below the player's mean yards. \n",
    "\n",
    "## Structure \n",
    "\n",
    "__Set up__\n",
    "* Import packages and functions\n",
    "* Load data\n",
    "* Replace NAs\n",
    "* Visualise the data\n"
   ]
  },
  {
   "cell_type": "markdown",
   "id": "c5e5a04a-1899-4cd3-9379-8b969efb4b69",
   "metadata": {},
   "source": [
    "## Set up\n",
    "\n",
    "__Import packages and functions__"
   ]
  },
  {
   "cell_type": "code",
   "execution_count": 28,
   "id": "82801d37-1576-458f-a9f0-8dcfb0e8658b",
   "metadata": {},
   "outputs": [],
   "source": [
    "import numpy as np\n",
    "import pandas as pd\n",
    "import seaborn as sns\n",
    "import statsmodels.api as sm\n",
    "import sklearn\n",
    "import matplotlib.pyplot as plt\n",
    "\n",
    "\n",
    "from sklearn.model_selection import train_test_split\n",
    "from sklearn.linear_model import LogisticRegression\n",
    "from sklearn import metrics\n",
    "from sklearn.metrics import confusion_matrix\n",
    "from sklearn.metrics import roc_curve\n",
    "from sklearn.metrics import roc_auc_score\n",
    "from sklearn.model_selection import GridSearchCV"
   ]
  },
  {
   "cell_type": "markdown",
   "id": "c2cd5cf6-2a3c-4b1b-82f1-aa2000a2d8f7",
   "metadata": {},
   "source": [
    "__Read in the NFL data.__\n",
    "\n",
    "This has been filtered to only include players who played more than one season. This is necessary to ensure that the previous season's averages are not correlated with the y variables. The Y variables, by definition take into account games 15 and 16, which are not incorporated into the rolling season average. By ensuring there are more than 16 games (the min is 18) ensures that there are at least a few games in more than one season to incorporate into the betting line. These are also, as is explained in the write up, increased or decreased by a random factor between 5% and 15% to further decorrelate. "
   ]
  },
  {
   "cell_type": "code",
   "execution_count": 30,
   "id": "5b3845e0-88a4-4a3c-8392-133539e420ee",
   "metadata": {},
   "outputs": [],
   "source": [
    "NFL_df = pd.read_csv(r'C:\\\\Users\\\\tomam\\\\OneDrive\\\\Documents\\\\QMUL\\\\Group projects\\\\Big data\\\\NFL_Data_Project\\\\Multi_Season_DF_Past_Wk2.csv')"
   ]
  },
  {
   "cell_type": "markdown",
   "id": "8edca926-b1ff-472a-b997-4b469db1acf6",
   "metadata": {},
   "source": [
    "NA values are handled in the same way as for the initial regressions"
   ]
  },
  {
   "cell_type": "code",
   "execution_count": 29,
   "id": "a701b26a-9d1a-43b7-aaa5-24141012e923",
   "metadata": {},
   "outputs": [],
   "source": [
    "outdoors_rows = NFL_df['Outdoors'] == 1\n",
    "mean_outdoors_precip = NFL_df.loc[outdoors_rows, 'Precipitation'].mean()\n",
    "\n",
    "for i in NFL_df['Outdoors']:\n",
    "    if i == 1:\n",
    "        NFL_df['Precipitation'].fillna(value = mean_outdoors_precip, inplace = True)\n",
    "    else:\n",
    "        NFL_df['Precipitation'].fillna(value = 0, inplace = True)\n",
    "        \n",
    "        \n",
    "avg_1 = NFL_df['Prev_Vs_Opp_P_Yds'].mean()\n",
    "NFL_df['Prev_Vs_Opp_P_Yds'].fillna(value = avg_1, inplace = True)\n",
    "\n",
    "avg_2 = NFL_df['Prev_Vs_Opp_P_Atts'].mean()\n",
    "NFL_df['Prev_Vs_Opp_P_Atts'].fillna(value = avg_2, inplace = True)\n",
    "\n",
    "NFL_df.dropna(axis = 0, how = 'any', inplace = True)"
   ]
  },
  {
   "cell_type": "markdown",
   "id": "dea35cdb-977a-4665-b035-def2e49ae57d",
   "metadata": {},
   "source": [
    "Define the set of predictors"
   ]
  },
  {
   "cell_type": "code",
   "execution_count": 4,
   "id": "5b2b3fc8-f2aa-43f2-b663-17b03536ad43",
   "metadata": {},
   "outputs": [],
   "source": [
    "Full_Set_Of_Predictors = ['Prev_Wk_P_Yds','Seas_Av_P_Yds','Prev_Seas_Av_P_Yds','Prev_Seas_Av_P_Atts','Prev_Seas_Comp_Perc','Opp_Prev_Seas_Conc_P_Yds',\n",
    "                      'Opp_Prev_Seas_Conc_P_Atts','Opp_Prev_Seas_Conc_R_Yds','Opp_Prev_Seas_Conc_R_Atts', 'Opp_Seas_Av_P_Yds',\n",
    "                      'Opp_Seas_Av_P_Atts', 'Opp_Prev_Wk_P_Yds', 'Prev_Wk_R_Yds', 'Seas_Av_R_Yds', 'Prev_Vs_Opp_P_Yds', 'Prev_Vs_Opp_P_Atts',\n",
    "                      'Precipitation', 'WindSpeed', 'Temperature',\n",
    "                      'Outdoors', 'Home']\n"
   ]
  },
  {
   "cell_type": "markdown",
   "id": "3410161e-6519-4b96-8259-8dfa82625417",
   "metadata": {},
   "source": [
    "## Some visualisation"
   ]
  },
  {
   "cell_type": "code",
   "execution_count": null,
   "id": "3194cfc5-311f-497a-98b1-ee1007364c4f",
   "metadata": {},
   "outputs": [],
   "source": [
    "x = NFL_df['P_Yds']\n",
    "y = NFL_df['Over_B_Line']\n",
    "\n",
    "#plot logistic regression curve\n",
    "sns.regplot(x=x, y=y, data=NFL_df, logistic=True, ci=None)"
   ]
  },
  {
   "cell_type": "code",
   "execution_count": null,
   "id": "0b61a735-b34e-471f-a6d4-51612351e390",
   "metadata": {},
   "outputs": [],
   "source": [
    "x = NFL_df['P_Yds']\n",
    "y = NFL_df['Under_B_Line']\n",
    "\n",
    "#plot logistic regression curve\n",
    "sns.regplot(x=x, y=y, data=NFL_df, logistic=True, ci=None)"
   ]
  },
  {
   "cell_type": "code",
   "execution_count": null,
   "id": "36124fad-32f1-45b9-abfa-19f8303b0ae9",
   "metadata": {},
   "outputs": [],
   "source": [
    "x = NFL_df['P_Yds']\n",
    "y = NFL_df['mean_line']\n",
    "\n",
    "#plot logistic regression curve\n",
    "sns.regplot(x=x, y=y, data=NFL_df, logistic=True, ci=None)"
   ]
  },
  {
   "cell_type": "code",
   "execution_count": 31,
   "id": "f73f512d-a898-4a2a-a1ce-ce5e504865ad",
   "metadata": {},
   "outputs": [
    {
     "data": {
      "image/png": "[encoded data removed]",
      "text/plain": [
       "<Figure size 432x288 with 1 Axes>"
      ]
     },
     "metadata": {
      "needs_background": "light"
     },
     "output_type": "display_data"
    },
    {
     "data": {
      "text/plain": [
       "<Figure size 432x288 with 0 Axes>"
      ]
     },
     "metadata": {},
     "output_type": "display_data"
    }
   ],
   "source": [
    "sns.countplot(x=NFL_df['Over_B_Line'],data=NFL_df, palette='hls')\n",
    "plt.show()\n",
    "plt.savefig('count_plot')"
   ]
  },
  {
   "cell_type": "markdown",
   "id": "7d68d206-6629-4613-873d-daec22575d2a",
   "metadata": {},
   "source": [
    "These pairplots are included in the presentation slides"
   ]
  },
  {
   "cell_type": "code",
   "execution_count": null,
   "id": "649f1710-8e3c-40ef-82ea-545c06dae419",
   "metadata": {},
   "outputs": [],
   "source": [
    "Pres_Pairplots1 = sns.pairplot(data=NFL_df,\n",
    "                  y_vars= 'Opp_Seas_Av_P_Yds',\n",
    "             \n",
    "                  x_vars= ['Prev_Wk_P_Yds', 'Seas_Av_P_Yds',  'Prev_Seas_Av_P_Yds', 'Opp_Prev_Wk_P_Yds'],\n",
    "             \n",
    "                            hue='Over_B_Line',\n",
    "                             plot_kws={\"s\": 13})"
   ]
  },
  {
   "cell_type": "code",
   "execution_count": null,
   "id": "c3e74be1-a4b8-4dc6-9a95-33e8ecdb4eca",
   "metadata": {},
   "outputs": [],
   "source": [
    "sns.pairplot(data=NFL_df,\n",
    "                  y_vars= Non_Zero_Lasso_Predictors,\n",
    "             \n",
    "                  x_vars= Non_Zero_Lasso_Predictors,\n",
    "             \n",
    "                            hue='Over_B_Line',\n",
    "                             plot_kws={\"s\": 11})"
   ]
  },
  {
   "cell_type": "code",
   "execution_count": null,
   "id": "8ca23415-1072-4184-b904-613680a6821d",
   "metadata": {},
   "outputs": [],
   "source": [
    "sns.countplot(x=NFL_df['Under_B_Line'],data=NFL_df, palette='hls')\n",
    "plt.show()\n",
    "plt.savefig('count_plot')"
   ]
  },
  {
   "cell_type": "code",
   "execution_count": 33,
   "id": "3315b991-b432-429c-bcca-110b7e1c45c5",
   "metadata": {},
   "outputs": [
    {
     "ename": "NameError",
     "evalue": "name 'Non_Zero_Lasso_Predictors' is not defined",
     "output_type": "error",
     "traceback": [
      "\u001b[1;31m---------------------------------------------------------------------------\u001b[0m",
      "\u001b[1;31mNameError\u001b[0m                                 Traceback (most recent call last)",
      "\u001b[1;32m<ipython-input-33-ce0783a8de7b>\u001b[0m in \u001b[0;36m<module>\u001b[1;34m\u001b[0m\n\u001b[0;32m      1\u001b[0m sns.pairplot(data=NFL_df,\n\u001b[1;32m----> 2\u001b[1;33m                   \u001b[0my_vars\u001b[0m\u001b[1;33m=\u001b[0m \u001b[0mNon_Zero_Lasso_Predictors\u001b[0m\u001b[1;33m,\u001b[0m\u001b[1;33m\u001b[0m\u001b[1;33m\u001b[0m\u001b[0m\n\u001b[0m\u001b[0;32m      3\u001b[0m \u001b[1;33m\u001b[0m\u001b[0m\n\u001b[0;32m      4\u001b[0m                   \u001b[0mx_vars\u001b[0m\u001b[1;33m=\u001b[0m \u001b[0mNon_Zero_Lasso_Predictors\u001b[0m\u001b[1;33m,\u001b[0m\u001b[1;33m\u001b[0m\u001b[1;33m\u001b[0m\u001b[0m\n\u001b[0;32m      5\u001b[0m \u001b[1;33m\u001b[0m\u001b[0m\n",
      "\u001b[1;31mNameError\u001b[0m: name 'Non_Zero_Lasso_Predictors' is not defined"
     ]
    }
   ],
   "source": [
    "sns.pairplot(data=NFL_df,\n",
    "                  y_vars= Non_Zero_Lasso_Predictors,\n",
    "             \n",
    "                  x_vars= Non_Zero_Lasso_Predictors,\n",
    "             \n",
    "                            hue='Under_B_Line')"
   ]
  },
  {
   "cell_type": "markdown",
   "id": "52753565-0362-47f7-8ea5-0b830994a124",
   "metadata": {},
   "source": [
    "These pairplots were also included in the presentation slides"
   ]
  },
  {
   "cell_type": "code",
   "execution_count": null,
   "id": "29510576-1630-424b-b35a-45cb30db7308",
   "metadata": {},
   "outputs": [],
   "source": [
    "Pres_Pairplots2 = sns.pairplot(data=NFL_df,\n",
    "                  y_vars= 'Opp_Seas_Av_P_Yds',\n",
    "             \n",
    "                  x_vars= ['Prev_Wk_P_Yds', 'Seas_Av_P_Yds',  'Prev_Seas_Av_P_Yds', 'Opp_Prev_Wk_P_Yds'],\n",
    "             \n",
    "                            hue='Under_B_Line',\n",
    "                             plot_kws={\"s\": 13})"
   ]
  },
  {
   "cell_type": "markdown",
   "id": "0cfd128c-6a98-4189-806c-481bb79ed5b6",
   "metadata": {},
   "source": [
    "# Running logistic regressions"
   ]
  },
  {
   "cell_type": "markdown",
   "id": "78dbf26a-8485-4eea-b7e3-ec6ab86ca6c4",
   "metadata": {},
   "source": [
    "## Under B line\n",
    "\n",
    "We start with the set column `Under_B_Line`"
   ]
  },
  {
   "cell_type": "code",
   "execution_count": 5,
   "id": "e605f0a8-4d4b-48eb-9fd3-3f061a543000",
   "metadata": {},
   "outputs": [],
   "source": [
    "\n",
    "# Define the predictors\n",
    "X       = NFL_df[Full_Set_Of_Predictors]\n",
    "\n",
    "# Adding a constant reduces the R squared from 0.938 to 0.38\n",
    "X       = sm.add_constant(X)\n",
    "\n",
    "# Define the target variable: Passing yards\n",
    "y       = NFL_df['Under_B_Line']\n",
    "\n",
    "X_train, X_test, y_train, y_test = train_test_split(X, y, test_size=0.33, stratify=y, random_state=42 )"
   ]
  },
  {
   "cell_type": "code",
   "execution_count": 6,
   "id": "54947f8d-4225-4c3d-95c6-7e9ec35b3ecf",
   "metadata": {},
   "outputs": [
    {
     "name": "stdout",
     "output_type": "stream",
     "text": [
      "Optimum Tuned Logistic Regression Parameters: {'C': 0.0007196856730011522}\n"
     ]
    }
   ],
   "source": [
    "\n",
    "# Search for the optimum penalty termm\n",
    "# Creating the hyperparameter grid\n",
    "c_space = np.logspace(-5, 8, 15)\n",
    "param_grid = {'C': c_space}\n",
    "  \n",
    "# Instantiating logistic regression classifier\n",
    "logreg = LogisticRegression(max_iter=100000)\n",
    "  \n",
    "# Instantiating the GridSearchCV object\n",
    "logreg_cv = GridSearchCV(logreg, param_grid, cv = 5)\n",
    "  \n",
    "logreg_cv.fit(X_test, y_test)\n",
    "  \n",
    "# Print the tuned parameters and score\n",
    "print(\"Optimum Tuned Logistic Regression Parameters: {}\".format(logreg_cv.best_params_)) "
   ]
  },
  {
   "cell_type": "code",
   "execution_count": 7,
   "id": "deaf4ed7-0b57-4818-9a8e-5404787be0de",
   "metadata": {},
   "outputs": [],
   "source": [
    "model = LogisticRegression(penalty = 'l2',\n",
    "                           solver = 'lbfgs',\n",
    "    C= 0.0007, max_iter=1e5,\n",
    "                          random_state=42)\n",
    "model.fit(X_train, y_train)\n",
    "yhat  = model.predict(X_test)"
   ]
  },
  {
   "cell_type": "code",
   "execution_count": 8,
   "id": "b69169b5-070e-46e5-aa64-9d15316e6b4c",
   "metadata": {},
   "outputs": [
    {
     "name": "stdout",
     "output_type": "stream",
     "text": [
      "[[192  32]\n",
      " [ 86  56]]\n"
     ]
    }
   ],
   "source": [
    "print(metrics.confusion_matrix(y_test, yhat))"
   ]
  },
  {
   "cell_type": "code",
   "execution_count": 9,
   "id": "6b7b431b-7a0b-49d3-a603-5bdfac3747d6",
   "metadata": {},
   "outputs": [
    {
     "data": {
      "text/plain": [
       "Text(0.5, 1.0, 'Whether Passing Yards < Low Bet')"
      ]
     },
     "execution_count": 9,
     "metadata": {},
     "output_type": "execute_result"
    },
    {
     "data": {
      "image/png": "[encoded data removed]",
      "text/plain": [
       "<Figure size 432x288 with 2 Axes>"
      ]
     },
     "metadata": {
      "needs_background": "light"
     },
     "output_type": "display_data"
    }
   ],
   "source": [
    "cf_matrix = confusion_matrix(y_test, yhat)\n",
    "\n",
    "group_names = ['True Neg','False Pos','False Neg','True Pos']\n",
    "group_percentages = ['{0:.2%}'.format(value) for value in\n",
    "                     cf_matrix.flatten()/np.sum(cf_matrix)]\n",
    "labels = [f'{v1}\\n{v2}' for v1, v2 in\n",
    "          zip(group_names,group_percentages)]\n",
    "labels = np.asarray(labels).reshape(2,2)\n",
    "sns.heatmap(cf_matrix, annot=labels, fmt='', cmap='Reds')\n",
    "plt.title('Whether Passing Yards < Low Bet')"
   ]
  },
  {
   "cell_type": "code",
   "execution_count": 10,
   "id": "8f04030f-2dca-465e-98df-42c17de81b2e",
   "metadata": {},
   "outputs": [
    {
     "name": "stdout",
     "output_type": "stream",
     "text": [
      "Logistic: ROC AUC=0.699\n"
     ]
    },
    {
     "data": {
      "image/png": "[encoded data removed]",
      "text/plain": [
       "<Figure size 432x288 with 1 Axes>"
      ]
     },
     "metadata": {},
     "output_type": "display_data"
    }
   ],
   "source": [
    "\n",
    "# generate a no skill prediction (majority class)\n",
    "ns_probs = [0 for _ in range(len(y_test))]\n",
    "\n",
    "# generate the predicted probabilities from the logistic regression\n",
    "lr_probs = model.predict_proba(X_test)[:,1]\n",
    "# Visualisation with plot_metric\n",
    "\n",
    "ns_fpr, ns_tpr, _ = roc_curve(y_test, ns_probs)\n",
    "lr_fpr, lr_tpr, _ = roc_curve(y_test, lr_probs)\n",
    "\n",
    "lr_auc = roc_auc_score(y_test, lr_probs)\n",
    "print('Logistic: ROC AUC=%.3f' % (lr_auc))\n",
    "with plt.style.context('Solarize_Light2'):\n",
    "    # plot the roc curve for the model\n",
    "    plt.plot(ns_fpr, ns_tpr, linestyle='--', label='No Skill')\n",
    "    plt.plot(lr_fpr, lr_tpr, marker='.', label='Logistic', color = 'red')\n",
    "    plt.title('Logistic vs Below Low Bet')\n",
    "    \n",
    "    plt.text(0.75, 0.05, 'ROC AUC=%.3f' % (lr_auc))\n",
    "\n",
    "# axis labels\n",
    "    plt.xlabel('False Positive Rate')\n",
    "    plt.ylabel('True Positive Rate')\n",
    "\n",
    "# show the legend\n",
    "    plt.legend()\n",
    "\n",
    "# show the plot\n",
    "    plt.show()"
   ]
  },
  {
   "cell_type": "code",
   "execution_count": 11,
   "id": "9ae8f5ce-7db6-4495-8393-a570f724a7f8",
   "metadata": {},
   "outputs": [
    {
     "name": "stdout",
     "output_type": "stream",
     "text": [
      "No Skill: ROC AUC=0.500\n",
      "Logistic: ROC AUC=0.699\n"
     ]
    }
   ],
   "source": [
    "ns_auc = roc_auc_score(y_test, ns_probs)\n",
    "lr_auc = roc_auc_score(y_test, lr_probs)\n",
    "# summarize scores\n",
    "print('No Skill: ROC AUC=%.3f' % (ns_auc))\n",
    "print('Logistic: ROC AUC=%.3f' % (lr_auc))"
   ]
  },
  {
   "cell_type": "markdown",
   "id": "f19166a1-b85b-4a93-a5af-b91a5c3c8e2e",
   "metadata": {},
   "source": [
    "## Over B line"
   ]
  },
  {
   "cell_type": "code",
   "execution_count": 12,
   "id": "3e479e28-0092-45cc-bddb-bae6b05729cb",
   "metadata": {},
   "outputs": [],
   "source": [
    "# Define the predictors\n",
    "X       = NFL_df[Full_Set_Of_Predictors]\n",
    "\n",
    "# Adding a constant reduces the R squared from 0.938 to 0.38\n",
    "X       = sm.add_constant(X)\n",
    "\n",
    "# Define the target variable: Passing yards\n",
    "y       = NFL_df['Over_B_Line']\n",
    "\n",
    "# We split the data frame into training and testing samples. We split the sample train = 2/3 test = 1/3. \n",
    "# The random_state is set to 42  to ensure we get the same results with each run\n",
    "\n",
    "# stratify ensures that we have the same proportion of yeses and nos in test and train\n",
    "X_train, X_test, y_train, y_test = train_test_split(X, y, test_size=0.33, stratify=y, random_state=42 )"
   ]
  },
  {
   "cell_type": "code",
   "execution_count": 13,
   "id": "68fa29d3-b7ca-49ec-9855-5dfa51ed78e4",
   "metadata": {},
   "outputs": [
    {
     "name": "stdout",
     "output_type": "stream",
     "text": [
      "Optimum Tuned Logistic Regression Parameters: {'C': 8.483428982440725e-05}\n"
     ]
    }
   ],
   "source": [
    "# Search for the optimum penalty termm\n",
    "# Creating the hyperparameter grid\n",
    "c_space = np.logspace(-5, 8, 15)\n",
    "param_grid = {'C': c_space}\n",
    "  \n",
    "# Instantiating logistic regression classifier\n",
    "logreg = LogisticRegression(max_iter=100000)\n",
    "  \n",
    "# Instantiating the GridSearchCV object\n",
    "logreg_cv = GridSearchCV(logreg, param_grid, cv = 5)\n",
    "  \n",
    "logreg_cv.fit(X_test, y_test)\n",
    "  \n",
    "# Print the tuned parameters and score\n",
    "print(\"Optimum Tuned Logistic Regression Parameters: {}\".format(logreg_cv.best_params_)) "
   ]
  },
  {
   "cell_type": "code",
   "execution_count": 14,
   "id": "76d2c37b-3b54-476c-8387-4f4d5a63e442",
   "metadata": {},
   "outputs": [],
   "source": [
    "model = LogisticRegression(penalty = 'l2',\n",
    "                           solver = 'lbfgs',\n",
    "    C= 0.00008, max_iter=1e5,\n",
    "                          random_state=42)\n",
    "model.fit(X_train, y_train)\n",
    "yhat  = model.predict(X_test)"
   ]
  },
  {
   "cell_type": "code",
   "execution_count": 15,
   "id": "41c4fbd8-0b2c-4a30-8e22-b8dcd7bbfe6d",
   "metadata": {},
   "outputs": [
    {
     "name": "stdout",
     "output_type": "stream",
     "text": [
      "[[222  17]\n",
      " [ 94  33]]\n"
     ]
    }
   ],
   "source": [
    "print(metrics.confusion_matrix(y_test, yhat))"
   ]
  },
  {
   "cell_type": "code",
   "execution_count": 16,
   "id": "55c14789-6dcc-4982-9d53-80139b9fa5c1",
   "metadata": {},
   "outputs": [
    {
     "data": {
      "text/plain": [
       "Text(0.5, 1.0, 'Whether Passing Yards > High Bet')"
      ]
     },
     "execution_count": 16,
     "metadata": {},
     "output_type": "execute_result"
    },
    {
     "data": {
      "image/png": "[encoded data removed]",
      "text/plain": [
       "<Figure size 432x288 with 2 Axes>"
      ]
     },
     "metadata": {
      "needs_background": "light"
     },
     "output_type": "display_data"
    }
   ],
   "source": [
    "cf_matrix = confusion_matrix(y_test, yhat)\n",
    "\n",
    "group_names = ['True Neg','False Pos','False Neg','True Pos']\n",
    "group_percentages = ['{0:.2%}'.format(value) for value in\n",
    "                     cf_matrix.flatten()/np.sum(cf_matrix)]\n",
    "labels = [f'{v1}\\n{v2}' for v1, v2 in\n",
    "          zip(group_names,group_percentages)]\n",
    "labels = np.asarray(labels).reshape(2,2)\n",
    "sns.heatmap(cf_matrix, annot=labels, fmt='', cmap='Blues')\n",
    "plt.title('Whether Passing Yards > High Bet')"
   ]
  },
  {
   "cell_type": "code",
   "execution_count": 17,
   "id": "391042aa-4f86-4538-ad1f-7a240b23b3f5",
   "metadata": {},
   "outputs": [
    {
     "name": "stdout",
     "output_type": "stream",
     "text": [
      "Logistic: ROC AUC=0.682\n"
     ]
    },
    {
     "data": {
      "image/png": "[encoded data removed]",
      "text/plain": [
       "<Figure size 432x288 with 1 Axes>"
      ]
     },
     "metadata": {},
     "output_type": "display_data"
    }
   ],
   "source": [
    "\n",
    "# generate a no skill prediction (majority class)\n",
    "ns_probs = [0 for _ in range(len(y_test))]\n",
    "\n",
    "# generate the predicted probabilities from the logistic regression\n",
    "lr_probs = model.predict_proba(X_test)[:,1]\n",
    "# Visualisation with plot_metric\n",
    "\n",
    "ns_fpr, ns_tpr, _ = roc_curve(y_test, ns_probs)\n",
    "lr_fpr, lr_tpr, _ = roc_curve(y_test, lr_probs)\n",
    "\n",
    "lr_auc = roc_auc_score(y_test, lr_probs)\n",
    "print('Logistic: ROC AUC=%.3f' % (lr_auc))\n",
    "with plt.style.context('Solarize_Light2'):\n",
    "    # plot the roc curve for the model\n",
    "    plt.plot(ns_fpr, ns_tpr, linestyle='--', label='No Skill')\n",
    "    plt.plot(lr_fpr, lr_tpr, marker='.', label='Logistic', color = 'blue')\n",
    "    plt.title('Logistic vs Above High Bet')\n",
    "    \n",
    "    plt.text(0.75, 0.05, 'ROC AUC=%.3f' % (lr_auc))\n",
    "\n",
    "# axis labels\n",
    "    plt.xlabel('False Positive Rate')\n",
    "    plt.ylabel('True Positive Rate')\n",
    "\n",
    "# show the legend\n",
    "    plt.legend()\n",
    "\n",
    "# show the plot\n",
    "    plt.show()"
   ]
  },
  {
   "cell_type": "code",
   "execution_count": 18,
   "id": "143807cc-9458-4185-beeb-b7cfd6fbd0dd",
   "metadata": {},
   "outputs": [
    {
     "name": "stdout",
     "output_type": "stream",
     "text": [
      "No Skill: ROC AUC=0.500\n",
      "Logistic: ROC AUC=0.682\n"
     ]
    }
   ],
   "source": [
    "ns_auc = roc_auc_score(y_test, ns_probs)\n",
    "lr_auc = roc_auc_score(y_test, lr_probs)\n",
    "# summarize scores\n",
    "print('No Skill: ROC AUC=%.3f' % (ns_auc))\n",
    "print('Logistic: ROC AUC=%.3f' % (lr_auc))"
   ]
  },
  {
   "cell_type": "markdown",
   "id": "06dba1bc-6272-46cd-8748-8828db9bc645",
   "metadata": {},
   "source": [
    "### Mean line"
   ]
  },
  {
   "cell_type": "code",
   "execution_count": 19,
   "id": "90672d6e-06ac-4a25-83e3-f4ceda72e042",
   "metadata": {},
   "outputs": [],
   "source": [
    "# Define the predictors\n",
    "X       = NFL_df[Full_Set_Of_Predictors]\n",
    "\n",
    "# Adding a constant reduces the R squared from 0.938 to 0.38\n",
    "X       = sm.add_constant(X)\n",
    "\n",
    "# Define the target variable: Passing yards\n",
    "y       = NFL_df['mean_line']\n",
    "\n",
    "# We split the data frame into training and testing samples. We split the sample train = 2/3 test = 1/3. \n",
    "# The random_state is set to 42  to ensure we get the same results with each run\n",
    "\n",
    "# stratify ensures that we have the same proportion of yeses and nos in test and train\n",
    "X_train, X_test, y_train, y_test = train_test_split(X, y, test_size=0.33, stratify=y, random_state=42 )"
   ]
  },
  {
   "cell_type": "code",
   "execution_count": 20,
   "id": "9e114e5b-91bc-44ff-85d1-bd7ff66a0588",
   "metadata": {},
   "outputs": [
    {
     "name": "stdout",
     "output_type": "stream",
     "text": [
      "Optimum Tuned Logistic Regression Parameters: {'C': 19306.977288832535}\n"
     ]
    }
   ],
   "source": [
    "# Search for the optimum penalty termm\n",
    "# Creating the hyperparameter grid\n",
    "c_space = np.logspace(-5, 8, 15)\n",
    "param_grid = {'C': c_space}\n",
    "  \n",
    "# Instantiating logistic regression classifier\n",
    "logreg = LogisticRegression(max_iter=100000)\n",
    "  \n",
    "# Instantiating the GridSearchCV object\n",
    "logreg_cv = GridSearchCV(logreg, param_grid, cv = 5)\n",
    "  \n",
    "logreg_cv.fit(X_test, y_test)\n",
    "  \n",
    "# Print the tuned parameters and score\n",
    "print(\"Optimum Tuned Logistic Regression Parameters: {}\".format(logreg_cv.best_params_)) "
   ]
  },
  {
   "cell_type": "code",
   "execution_count": 21,
   "id": "e9ae956e-6f43-4d26-a6f4-4d4fbbc530a0",
   "metadata": {},
   "outputs": [],
   "source": [
    "model = LogisticRegression(penalty = 'l2',\n",
    "                           solver = 'lbfgs',\n",
    "    C= 19307, max_iter=1e5,\n",
    "                          random_state=42)\n",
    "model.fit(X_train, y_train)\n",
    "yhat  = model.predict(X_test)"
   ]
  },
  {
   "cell_type": "code",
   "execution_count": 22,
   "id": "cd7d0410-cff2-4e62-994c-faf08fc207ab",
   "metadata": {},
   "outputs": [
    {
     "name": "stdout",
     "output_type": "stream",
     "text": [
      "[[130  60]\n",
      " [ 76 100]]\n"
     ]
    }
   ],
   "source": [
    "print(metrics.confusion_matrix(y_test, yhat))"
   ]
  },
  {
   "cell_type": "code",
   "execution_count": 23,
   "id": "62f757b7-2d44-44eb-bf72-a652299fef84",
   "metadata": {},
   "outputs": [
    {
     "data": {
      "text/plain": [
       "Text(0.5, 1.0, 'Whether Passing Yards > Player mean')"
      ]
     },
     "execution_count": 23,
     "metadata": {},
     "output_type": "execute_result"
    },
    {
     "data": {
      "image/png": "[encoded data removed]",
      "text/plain": [
       "<Figure size 432x288 with 2 Axes>"
      ]
     },
     "metadata": {
      "needs_background": "light"
     },
     "output_type": "display_data"
    }
   ],
   "source": [
    "cf_matrix = confusion_matrix(y_test, yhat)\n",
    "\n",
    "group_names = ['True Neg','False Pos','False Neg','True Pos']\n",
    "group_percentages = ['{0:.2%}'.format(value) for value in\n",
    "                     cf_matrix.flatten()/np.sum(cf_matrix)]\n",
    "labels = [f'{v1}\\n{v2}' for v1, v2 in\n",
    "          zip(group_names,group_percentages)]\n",
    "labels = np.asarray(labels).reshape(2,2)\n",
    "sns.heatmap(cf_matrix, annot=labels, fmt='', cmap='Purples')\n",
    "plt.title('Whether Passing Yards > Player mean')"
   ]
  },
  {
   "cell_type": "code",
   "execution_count": 24,
   "id": "8c3f8563-1874-4f12-9823-bca2d10bfccf",
   "metadata": {},
   "outputs": [
    {
     "name": "stdout",
     "output_type": "stream",
     "text": [
      "Logistic: ROC AUC=0.673\n"
     ]
    },
    {
     "data": {
      "image/png": "[encoded data removed]",
      "text/plain": [
       "<Figure size 432x288 with 1 Axes>"
      ]
     },
     "metadata": {},
     "output_type": "display_data"
    }
   ],
   "source": [
    "\n",
    "# generate a no skill prediction (majority class)\n",
    "ns_probs = [0 for _ in range(len(y_test))]\n",
    "\n",
    "# generate the predicted probabilities from the logistic regression\n",
    "lr_probs = model.predict_proba(X_test)[:,1]\n",
    "# Visualisation with plot_metric\n",
    "\n",
    "ns_fpr, ns_tpr, _ = roc_curve(y_test, ns_probs)\n",
    "lr_fpr, lr_tpr, _ = roc_curve(y_test, lr_probs)\n",
    "\n",
    "lr_auc = roc_auc_score(y_test, lr_probs)\n",
    "print('Logistic: ROC AUC=%.3f' % (lr_auc))\n",
    "with plt.style.context('Solarize_Light2'):\n",
    "    # plot the roc curve for the model\n",
    "    plt.plot(ns_fpr, ns_tpr, linestyle='--', label='No Skill')\n",
    "    plt.plot(lr_fpr, lr_tpr, marker='.', label='Logistic', color = 'purple')\n",
    "    plt.title('Logistic vs Mean line')\n",
    "    \n",
    "    plt.text(0.75, 0.05, 'ROC AUC=%.3f' % (lr_auc))\n",
    "\n",
    "# axis labels\n",
    "    plt.xlabel('False Positive Rate')\n",
    "    plt.ylabel('True Positive Rate')\n",
    "\n",
    "# show the legend\n",
    "    plt.legend()\n",
    "\n",
    "# show the plot\n",
    "    plt.show()\n"
   ]
  },
  {
   "cell_type": "code",
   "execution_count": 139,
   "id": "80a6eaf6-33f8-44fc-9a16-9fac2f0c4330",
   "metadata": {},
   "outputs": [
    {
     "name": "stdout",
     "output_type": "stream",
     "text": [
      "No Skill: ROC AUC=0.500\n",
      "Logistic: ROC AUC=0.667\n"
     ]
    }
   ],
   "source": [
    "ns_auc = roc_auc_score(y_test, ns_probs)\n",
    "lr_auc = roc_auc_score(y_test, lr_probs)\n",
    "# summarize scores\n",
    "print('No Skill: ROC AUC=%.3f' % (ns_auc))\n",
    "print('Logistic: ROC AUC=%.3f' % (lr_auc))"
   ]
  },
  {
   "cell_type": "code",
   "execution_count": null,
   "id": "181ee478-577b-4287-ad90-35654463fabf",
   "metadata": {},
   "outputs": [],
   "source": []
  },
  {
   "cell_type": "code",
   "execution_count": null,
   "id": "40e5d6e3-55a2-4d19-b3d8-cbab2ba42ddc",
   "metadata": {},
   "outputs": [],
   "source": []
  },
  {
   "cell_type": "code",
   "execution_count": null,
   "id": "f689ddf0-5983-4ef3-a35e-54e6d1082d82",
   "metadata": {},
   "outputs": [],
   "source": []
  }
 ],
 "metadata": {
  "kernelspec": {
   "display_name": "Python 3",
   "language": "python",
   "name": "python3"
  },
  "language_info": {
   "codemirror_mode": {
    "name": "ipython",
    "version": 3
   },
   "file_extension": ".py",
   "mimetype": "text/x-python",
   "name": "python",
   "nbconvert_exporter": "python",
   "pygments_lexer": "ipython3",
   "version": "3.8.8"
  }
 },
 "nbformat": 4,
 "nbformat_minor": 5
}
